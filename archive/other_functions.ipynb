{
 "cells": [
  {
   "cell_type": "code",
   "execution_count": 1,
   "id": "d199b2d2",
   "metadata": {},
   "outputs": [],
   "source": [
    "import random"
   ]
  },
  {
   "cell_type": "code",
   "execution_count": 2,
   "id": "fd136ff2",
   "metadata": {},
   "outputs": [],
   "source": [
    "def get_alphabet_list():\n",
    "        \n",
    "    # loops through the ascii codes of all lower case english letters\n",
    "    # and makes a list of the characters corresponding to those codes\n",
    "    return [chr(ascii_code) for ascii_code in range(ord(\"a\"), ord(\"z\")+1)]\n",
    "\n",
    "def insert_at_idx(word, letter, idx):\n",
    "\n",
    "    new_str = \"\" \n",
    "    new_str += word[:idx] + letter + word[idx:] #insert chosen letter at chosen index\n",
    "    \n",
    "    return new_str\n",
    "\n",
    "def rev_letter_capitalization(word, idx):\n",
    "    \n",
    "    new_str = \"\"\n",
    "    letter = word[idx]\n",
    "    ascii_code = ord(letter)\n",
    "    \n",
    "    if ascii_code >= ord(\"a\"):\n",
    "        ascii_code -= 32\n",
    "    else:\n",
    "        ascii_code += 32\n",
    "        \n",
    "    letter = chr(ascii_code)\n",
    "\n",
    "    new_str += word[:idx] + letter + word[idx+1:]\n",
    "    \n",
    "    return new_str"
   ]
  },
  {
   "cell_type": "code",
   "execution_count": 3,
   "id": "688e480d",
   "metadata": {},
   "outputs": [],
   "source": [
    "def insert_multiple_letters(word, N, seed=456, set_seed=False, prints=False):\n",
    "    \n",
    "    if set_seed:\n",
    "        random.seed(seed) #set seed for reproducibility\n",
    "    \n",
    "    alph = get_alphabet_list()\n",
    "    letters = [random.choice(alph) for i in range(N)] # choose N random letters from\n",
    "    # the english alphabet to insert at the chosen indices\n",
    "    \n",
    "    if prints:\n",
    "        print(f\"word {word} | (seed {seed})\")\n",
    "        print(f\"Letters to insert: {letters}\")\n",
    "    \n",
    "    new_str = word\n",
    "\n",
    "    for i in range(N):\n",
    "        \n",
    "        chosen_idx = random.randint(0, len(new_str)) # choose a random index to insert at\n",
    "        if prints:\n",
    "            print(f\"Inserting letter {letters[i]} at index {chosen_idx} of word {new_str}\")\n",
    "        new_str = insert_at_idx(new_str, letters[i], chosen_idx) # update the word with the chosen insertion\n",
    "    \n",
    "    return new_str"
   ]
  },
  {
   "cell_type": "code",
   "execution_count": 4,
   "id": "5b72d9a3",
   "metadata": {},
   "outputs": [],
   "source": [
    "def perturb_sentence(sent, perturb_func, n_words, seed=456, set_seed=False):\n",
    "    \n",
    "    if set_seed:\n",
    "        random.seed(seed) #set seed for reproducibility\n",
    "        \n",
    "    possible_idxs = list(range(len(sent)))\n",
    "    \n",
    "    new_sent = sent.copy()\n",
    "    \n",
    "    for i in range(len(sent)):\n",
    "        \n",
    "        idx = random.choice(possible_idxs)\n",
    "        possible_idxs.remove(idx)\n",
    "        new_sent[idx] = perturb_func(new_sent[idx], n_words)\n",
    "        \n",
    "    return new_sent"
   ]
  },
  {
   "cell_type": "code",
   "execution_count": 5,
   "id": "5c336d19",
   "metadata": {},
   "outputs": [
    {
     "name": "stdout",
     "output_type": "stream",
     "text": [
      "['yThiues', 'uiswa', 'uatm', 'ftestpt', 'sesntebnqce', 'bsohv', 'inkterestcineg']\n"
     ]
    }
   ],
   "source": [
    "og_sent = (\"This is a test sentence so interesting\").split()\n",
    "perturb_func = insert_multiple_letters\n",
    "n_words = 3\n",
    "res = perturb_sentence(og_sent, perturb_func, n_words, seed=456)\n",
    "print(res)"
   ]
  },
  {
   "cell_type": "code",
   "execution_count": 6,
   "id": "8f542f8f",
   "metadata": {},
   "outputs": [],
   "source": [
    "def perturb_dataset(data, perturb_func, n_sents, n_words, seed=456, set_seed=False):\n",
    "    \n",
    "    if set_seed:\n",
    "        random.seed(seed) #set seed for reproducibility\n",
    "        \n",
    "    possible_idxs = list(range(len(data)))\n",
    "    \n",
    "    new_data = data.copy()\n",
    "    \n",
    "    for i in range(n_sents):\n",
    "        \n",
    "        idx = random.choice(possible_idxs)\n",
    "        possible_idxs.remove(idx)\n",
    "        new_data[idx] = perturb_sentence(new_data[idx], perturb_func, n_words)  \n",
    "        \n",
    "    return new_data     "
   ]
  },
  {
   "cell_type": "code",
   "execution_count": 7,
   "id": "3e529251",
   "metadata": {},
   "outputs": [
    {
     "name": "stdout",
     "output_type": "stream",
     "text": [
      "[['xTxhins', 'qfhis', 'nonkeu'], ['Soyjime', 'otheapjr', 'telwbxt', 'heepreu']]\n"
     ]
    }
   ],
   "source": [
    "dataset = [[\"This\", \"is\", \"one\"], [\"Some\", \"other\", \"text\", \"here\"]]\n",
    "perturb_func = insert_multiple_letters\n",
    "n_words = 3\n",
    "n_sents = 2\n",
    "res = perturb_dataset(dataset, perturb_func, n_sents, n_words)\n",
    "print(res)"
   ]
  }
 ],
 "metadata": {
  "kernelspec": {
   "display_name": "Python 3 (ipykernel)",
   "language": "python",
   "name": "python3"
  },
  "language_info": {
   "codemirror_mode": {
    "name": "ipython",
    "version": 3
   },
   "file_extension": ".py",
   "mimetype": "text/x-python",
   "name": "python",
   "nbconvert_exporter": "python",
   "pygments_lexer": "ipython3",
   "version": "3.9.18"
  }
 },
 "nbformat": 4,
 "nbformat_minor": 5
}
