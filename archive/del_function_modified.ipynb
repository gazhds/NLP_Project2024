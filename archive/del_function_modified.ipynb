{
 "cells": [
  {
   "cell_type": "code",
   "execution_count": 1,
   "id": "2bbbb56a",
   "metadata": {},
   "outputs": [],
   "source": [
    "import pandas as pd\n",
    "import random"
   ]
  },
  {
   "cell_type": "code",
   "execution_count": 2,
   "id": "807b7f77",
   "metadata": {},
   "outputs": [],
   "source": [
    "PATH_TRAIN = \"C:/Users/kelis/ITU/Year_2/4th_semester/NLP/project/scripts/NLP_project2024-main/train.bio\"\n",
    "PATH_DEV = \"C:/Users/kelis/ITU/Year_2/4th_semester/NLP/project/scripts/NLP_project2024-main/dev.bio\"\n",
    "PATH_TEST = \"C:/Users/kelis/ITU/Year_2/4th_semester/NLP/project/scripts/NLP_project2024-main/test.bio\"\n",
    "label_all_tokens = True"
   ]
  },
  {
   "cell_type": "code",
   "execution_count": 4,
   "id": "225482b8",
   "metadata": {},
   "outputs": [],
   "source": [
    "def read_bio_file(path):\n",
    "    \n",
    "    data = []\n",
    "    current_words = []\n",
    "    current_tags = []\n",
    "\n",
    "    with open(path, \"r\", encoding=\"utf-8\") as f:\n",
    "        lines = f.readlines()[2:]\n",
    "        \n",
    "    for line in lines:\n",
    "        \n",
    "        line = line.strip()\n",
    "        \n",
    "        if line: # if line is not an empty line\n",
    "            tok = line.split('\\t')\n",
    "            current_words.append(tok[0])\n",
    "            current_tags.append(tok[3])\n",
    "            \n",
    "        else:\n",
    "            if current_words:\n",
    "                data.append((current_words, current_tags))\n",
    "            current_words = []\n",
    "            current_tags = []\n",
    "            \n",
    "            \n",
    "    if current_tags != []:\n",
    "        data.append((current_words, current_tags))\n",
    "\n",
    "    df = pd.DataFrame(data, columns=['words', 'tags'])\n",
    "    df['id'] = df.index\n",
    "    df = df[['id', 'words', 'tags']]\n",
    "    \n",
    "    return df\n",
    "\n",
    "train_data = read_bio_file(PATH_TRAIN)\n",
    "total_num_of_sentences = train_data.shape[0]"
   ]
  },
  {
   "cell_type": "code",
   "execution_count": 5,
   "id": "49e681b3",
   "metadata": {},
   "outputs": [],
   "source": [
    "def deletion_sentence(sent, perc_words):\n",
    "    \n",
    "    n_words = int(len(sent) * perc_words)\n",
    "    if n_words == 0:\n",
    "        return sent\n",
    "    \n",
    "    word_idxs = [x for x in random.sample(list(range(len(sent))), n_words)]\n",
    "\n",
    "    for i in range(n_words):\n",
    "        \n",
    "        type_of_mistake = random.randint(1,3)\n",
    "        \n",
    "        word = sent[word_idxs[i]]\n",
    "        if len(word) > 1:\n",
    "            # mistake type 1: missed last letter\n",
    "            if type_of_mistake == 1:\n",
    "                word = word[:-1]\n",
    "            # mistake type 2: missed first letter\n",
    "            elif type_of_mistake == 2:\n",
    "                word = word[1:]\n",
    "            # mistake type 3: missed random middle letter\n",
    "            elif type_of_mistake == 3:\n",
    "                if len(word) >= 3:\n",
    "                    # make it so that you can't remove first or last letter\n",
    "                    # and have to remove smth in the middle\n",
    "                    del_idx = random.randint(1, len(word) - 2)\n",
    "                    word = word[:del_idx] + word[del_idx+1:]\n",
    "                \n",
    "        sent[word_idxs[i]] = word\n",
    "        \n",
    "    return sent"
   ]
  },
  {
   "cell_type": "code",
   "execution_count": 22,
   "id": "fafc4eb6",
   "metadata": {},
   "outputs": [
    {
     "name": "stdout",
     "output_type": "stream",
     "text": [
      "['This', 'is', 'a', 'sentenc', 'test']\n"
     ]
    }
   ],
   "source": [
    "s = [\"This\", \"is\", \"a\", \"sentence\", \"test\"]\n",
    "new_s = deletion_sentence(s, 0.5)\n",
    "print(new_s)"
   ]
  },
  {
   "cell_type": "code",
   "execution_count": 23,
   "id": "a1d7821b",
   "metadata": {},
   "outputs": [],
   "source": [
    "def deletion_dataset(data, perc_sent, perc_words, prints=False):\n",
    "\n",
    "    n_sent = int(perc_sent * data.shape[0])\n",
    "    new_data = data.copy()\n",
    "    \n",
    "    idxs = [x for x in random.sample(list(range(data.shape[0])), n_sent)]\n",
    "    \n",
    "    for idx in idxs:\n",
    "        \n",
    "        if prints:\n",
    "            print(f\"Perturbing sentence idx {idx} | Original: \")\n",
    "            print(data[\"words\"][idx])\n",
    "            \n",
    "        new_sent = (deletion_sentence((new_data[\"words\"][idx]).copy(), perc_words)).copy()\n",
    "        new_data[\"words\"][idx] = new_sent\n",
    "                    \n",
    "        if prints:\n",
    "            print(f\"Perturbed version:\")\n",
    "            print(new_data[\"words\"][idx])\n",
    "        \n",
    "            print(data[\"words\"][idx] == new_data[\"words\"][idx])\n",
    "        \n",
    "    return len(idxs), idxs, new_data"
   ]
  },
  {
   "cell_type": "code",
   "execution_count": 24,
   "id": "3bc9e796",
   "metadata": {},
   "outputs": [
    {
     "name": "stdout",
     "output_type": "stream",
     "text": [
      "327\n",
      "[151, 20, 1252, 790, 1615, 82, 481, 341, 56, 395, 893, 1515, 119, 1553, 1566, 979, 1289, 285, 697, 1163, 1217, 1250, 1132, 610, 126, 138, 1485, 912, 990, 860, 830, 1086, 691, 1534, 1450, 1182, 242, 571, 368, 997, 149, 1416, 1610, 925, 72, 526, 340, 1038, 411, 625, 1276, 415, 58, 920, 275, 1316, 470, 446, 1317, 1189, 1027, 1274, 202, 463, 595, 769, 5, 870, 381, 837, 1122, 833, 261, 509, 109, 532, 342, 73, 118, 513, 90, 314, 420, 708, 974, 1636, 1616, 845, 558, 1545, 98, 572, 1582, 987, 322, 957, 618, 1107, 1224, 546, 1469, 1108, 701, 14, 1547, 1634, 65, 372, 1039, 1628, 989, 1093, 1187, 421, 763, 1368, 487, 695, 1513, 1141, 1271, 978, 206, 444, 749, 1239, 175, 689, 534, 3, 1019, 547, 654, 735, 945, 825, 1018, 120, 577, 471, 1098, 274, 904, 1575, 64, 993, 583, 884, 1195, 1350, 898, 458, 1296, 606, 142, 1155, 1002, 859, 719, 1116, 457, 1517, 445, 461, 995, 1421, 1046, 402, 1206, 451, 308, 1215, 617, 486, 1559, 907, 437, 976, 1500, 125, 404, 1397, 1478, 992, 542, 419, 1482, 1175, 1403, 280, 730, 1503, 1370, 950, 560, 774, 982, 891, 922, 970, 232, 1449, 1212, 1590, 647, 1426, 422, 597, 440, 850, 196, 1328, 1334, 545, 525, 180, 1400, 1200, 181, 439, 1080, 1348, 370, 1460, 598, 1457, 1420, 60, 518, 1383, 336, 390, 1302, 1565, 1354, 984, 589, 728, 916, 377, 350, 1480, 162, 1335, 1, 938, 61, 1465, 1173, 1123, 988, 1585, 229, 699, 1327, 1563, 1159, 97, 1061, 729, 849, 1068, 107, 1192, 543, 1433, 1452, 122, 1445, 1471, 944, 876, 267, 766, 641, 1364, 483, 678, 537, 793, 1290, 482, 1618, 239, 112, 1568, 646, 1454, 913, 902, 1444, 328, 814, 148, 620, 1366, 71, 673, 1307, 231, 178, 683, 1586, 1584, 1507, 468, 92, 1236, 1253, 128, 661, 556, 1430, 909, 721, 1453, 588, 1329, 1578, 1145, 1251, 50, 158, 1411, 1240, 1064, 407]\n"
     ]
    },
    {
     "name": "stderr",
     "output_type": "stream",
     "text": [
      "C:\\Users\\kelis\\AppData\\Local\\Temp\\ipykernel_13108\\3923332049.py:15: SettingWithCopyWarning: \n",
      "A value is trying to be set on a copy of a slice from a DataFrame\n",
      "\n",
      "See the caveats in the documentation: https://pandas.pydata.org/pandas-docs/stable/user_guide/indexing.html#returning-a-view-versus-a-copy\n",
      "  new_data[\"words\"][idx] = new_sent\n"
     ]
    }
   ],
   "source": [
    "p_sents = 0.2\n",
    "p_words = 0.4\n",
    "\n",
    "n_modified, idxs, perturbed_data = deletion_dataset(train_data, p_sents, p_words)\n",
    "print(n_modified)\n",
    "print(idxs)"
   ]
  }
 ],
 "metadata": {
  "kernelspec": {
   "display_name": "Python 3 (ipykernel)",
   "language": "python",
   "name": "python3"
  },
  "language_info": {
   "codemirror_mode": {
    "name": "ipython",
    "version": 3
   },
   "file_extension": ".py",
   "mimetype": "text/x-python",
   "name": "python",
   "nbconvert_exporter": "python",
   "pygments_lexer": "ipython3",
   "version": "3.9.18"
  }
 },
 "nbformat": 4,
 "nbformat_minor": 5
}
