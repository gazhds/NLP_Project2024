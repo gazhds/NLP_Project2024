{
 "cells": [
  {
   "cell_type": "code",
   "execution_count": 1,
   "id": "c59bef9a",
   "metadata": {},
   "outputs": [],
   "source": [
    "import random"
   ]
  },
  {
   "cell_type": "code",
   "execution_count": 2,
   "id": "4c3f58a9",
   "metadata": {},
   "outputs": [],
   "source": [
    "def get_alphabet_list():\n",
    "        \n",
    "    # loops through the ascii codes of all lower case english letters\n",
    "    # and makes a list of the characters corresponding to those codes\n",
    "    return [chr(ascii_code) for ascii_code in range(ord(\"a\"), ord(\"z\")+1)]"
   ]
  },
  {
   "cell_type": "code",
   "execution_count": 3,
   "id": "ff98d1dc",
   "metadata": {},
   "outputs": [],
   "source": [
    "def insert_at_idx(word, letter, idx):\n",
    "\n",
    "    new_str = \"\" \n",
    "    new_str += word[:idx] + letter + word[idx:] #insert chosen letter at chosen index\n",
    "    \n",
    "    return new_str"
   ]
  },
  {
   "cell_type": "code",
   "execution_count": 4,
   "id": "1627ca67",
   "metadata": {},
   "outputs": [],
   "source": [
    "def insert_letter(word, seed=456):\n",
    "    \n",
    "    random.seed(seed) #set seed for reproducibility\n",
    "    \n",
    "    insert_at = random.randint(0, len(word)) #choose a random index in the word to insert at\n",
    "    # note: random.randint(start,end) is a closed interval so it takes the \"end\" number as well\n",
    "    \n",
    "    alph = get_alphabet_list()\n",
    "    letter = random.choice(alph) #choose a random english alphabet letter to be inserted\n",
    "    \n",
    "    print(f\"word {word} insert letter {letter} at idx {insert_at} (seed {seed})\")\n",
    "    \n",
    "    new_str = insert_at_idx(word, letter, insert_at) #insert chosen letter at chosen index\n",
    "    \n",
    "    return new_str"
   ]
  },
  {
   "cell_type": "code",
   "execution_count": 5,
   "id": "d4c26510",
   "metadata": {},
   "outputs": [
    {
     "name": "stdout",
     "output_type": "stream",
     "text": [
      "word elephant insert letter o at idx 7 (seed 456)\n",
      "elephanot\n"
     ]
    }
   ],
   "source": [
    "word = \"elephant\"\n",
    "new_word = insert_letter(word, seed=456)\n",
    "print(new_word)"
   ]
  },
  {
   "cell_type": "code",
   "execution_count": 6,
   "id": "a9ecc704",
   "metadata": {},
   "outputs": [],
   "source": [
    "def insert_multiple_letters(word, N, seed=456):\n",
    "    \n",
    "    random.seed(seed) #set seed for reproducibility\n",
    "    \n",
    "    alph = get_alphabet_list()\n",
    "    letters = [random.choice(alph) for i in range(N)] # choose N random letters from\n",
    "    # the english alphabet to insert at the chosen indices\n",
    "    \n",
    "    print(f\"word {word} | (seed {seed})\")\n",
    "    print(f\"Letters to insert: {letters}\")\n",
    "    \n",
    "    new_str = word\n",
    "\n",
    "    for i in range(N):\n",
    "        \n",
    "        chosen_idx = random.randint(0, len(new_str)) # choose a random index to insert at\n",
    "        print(f\"Inserting letter {letters[i]} at index {chosen_idx} of word {new_str}\")\n",
    "        new_str = insert_at_idx(new_str, letters[i], chosen_idx) # update the word with the chosen insertion\n",
    "    \n",
    "    return new_str"
   ]
  },
  {
   "cell_type": "code",
   "execution_count": 7,
   "id": "3b94d2dd",
   "metadata": {},
   "outputs": [
    {
     "name": "stdout",
     "output_type": "stream",
     "text": [
      "word elephant | (seed 4226)\n",
      "Letters to insert: ['e', 'z', 'x']\n",
      "Inserting letter e at index 1 of word elephant\n",
      "Inserting letter z at index 3 of word eelephant\n",
      "Inserting letter x at index 5 of word eelzephant\n",
      "eelzexphant\n"
     ]
    }
   ],
   "source": [
    "word = \"elephant\"\n",
    "new_word = insert_multiple_letters(word, 3, seed=4226)\n",
    "print(new_word)"
   ]
  }
 ],
 "metadata": {
  "kernelspec": {
   "display_name": "Python 3 (ipykernel)",
   "language": "python",
   "name": "python3"
  },
  "language_info": {
   "codemirror_mode": {
    "name": "ipython",
    "version": 3
   },
   "file_extension": ".py",
   "mimetype": "text/x-python",
   "name": "python",
   "nbconvert_exporter": "python",
   "pygments_lexer": "ipython3",
   "version": "3.9.18"
  }
 },
 "nbformat": 4,
 "nbformat_minor": 5
}
